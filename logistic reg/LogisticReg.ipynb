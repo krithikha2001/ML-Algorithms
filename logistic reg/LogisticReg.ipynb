{
 "cells": [
  {
   "cell_type": "code",
   "execution_count": 1,
   "metadata": {},
   "outputs": [],
   "source": [
    "import pandas as pd\n",
    "import numpy as np\n",
    "from matplotlib import pyplot as plt \n",
    "%matplotlib inline"
   ]
  },
  {
   "cell_type": "code",
   "execution_count": 12,
   "metadata": {},
   "outputs": [
    {
     "name": "stdout",
     "output_type": "stream",
     "text": [
      "<class 'pandas.core.frame.DataFrame'>\n",
      "RangeIndex: 400 entries, 0 to 399\n",
      "Data columns (total 5 columns):\n",
      "User ID            400 non-null int64\n",
      "Gender             400 non-null object\n",
      "Age                400 non-null int64\n",
      "EstimatedSalary    400 non-null int64\n",
      "Purchased          400 non-null int64\n",
      "dtypes: int64(4), object(1)\n",
      "memory usage: 15.8+ KB\n"
     ]
    },
    {
     "data": {
      "text/html": [
       "<div>\n",
       "<style scoped>\n",
       "    .dataframe tbody tr th:only-of-type {\n",
       "        vertical-align: middle;\n",
       "    }\n",
       "\n",
       "    .dataframe tbody tr th {\n",
       "        vertical-align: top;\n",
       "    }\n",
       "\n",
       "    .dataframe thead th {\n",
       "        text-align: right;\n",
       "    }\n",
       "</style>\n",
       "<table border=\"1\" class=\"dataframe\">\n",
       "  <thead>\n",
       "    <tr style=\"text-align: right;\">\n",
       "      <th></th>\n",
       "      <th>User ID</th>\n",
       "      <th>Gender</th>\n",
       "      <th>Age</th>\n",
       "      <th>EstimatedSalary</th>\n",
       "      <th>Purchased</th>\n",
       "    </tr>\n",
       "  </thead>\n",
       "  <tbody>\n",
       "    <tr>\n",
       "      <td>0</td>\n",
       "      <td>15624510</td>\n",
       "      <td>Male</td>\n",
       "      <td>19</td>\n",
       "      <td>19000</td>\n",
       "      <td>0</td>\n",
       "    </tr>\n",
       "    <tr>\n",
       "      <td>1</td>\n",
       "      <td>15810944</td>\n",
       "      <td>Male</td>\n",
       "      <td>35</td>\n",
       "      <td>20000</td>\n",
       "      <td>0</td>\n",
       "    </tr>\n",
       "    <tr>\n",
       "      <td>2</td>\n",
       "      <td>15668575</td>\n",
       "      <td>Female</td>\n",
       "      <td>26</td>\n",
       "      <td>43000</td>\n",
       "      <td>0</td>\n",
       "    </tr>\n",
       "    <tr>\n",
       "      <td>3</td>\n",
       "      <td>15603246</td>\n",
       "      <td>Female</td>\n",
       "      <td>27</td>\n",
       "      <td>57000</td>\n",
       "      <td>0</td>\n",
       "    </tr>\n",
       "    <tr>\n",
       "      <td>4</td>\n",
       "      <td>15804002</td>\n",
       "      <td>Male</td>\n",
       "      <td>19</td>\n",
       "      <td>76000</td>\n",
       "      <td>0</td>\n",
       "    </tr>\n",
       "  </tbody>\n",
       "</table>\n",
       "</div>"
      ],
      "text/plain": [
       "    User ID  Gender  Age  EstimatedSalary  Purchased\n",
       "0  15624510    Male   19            19000          0\n",
       "1  15810944    Male   35            20000          0\n",
       "2  15668575  Female   26            43000          0\n",
       "3  15603246  Female   27            57000          0\n",
       "4  15804002    Male   19            76000          0"
      ]
     },
     "execution_count": 12,
     "metadata": {},
     "output_type": "execute_result"
    }
   ],
   "source": [
    "df=pd.read_csv('Social_Network_Ads.csv')\n",
    "df.info()\n",
    "df.isnull().sum()\n",
    "\n",
    "df.head()\n"
   ]
  },
  {
   "cell_type": "code",
   "execution_count": 10,
   "metadata": {},
   "outputs": [
    {
     "data": {
      "image/png": "[encoded data removed]",
      "text/plain": [
       "<Figure size 432x288 with 1 Axes>"
      ]
     },
     "metadata": {
      "needs_background": "light"
     },
     "output_type": "display_data"
    }
   ],
   "source": [
    "plt.scatter(df.Age,df.Purchased,marker=\"+\",color=\"red\")\n",
    "\n",
    "x = df[['Age']].values\n",
    "y = df['Purchased'].values"
   ]
  },
  {
   "cell_type": "code",
   "execution_count": 15,
   "metadata": {},
   "outputs": [
    {
     "name": "stderr",
     "output_type": "stream",
     "text": [
      "C:\\Users\\krithikha\\Anaconda3\\lib\\site-packages\\sklearn\\linear_model\\logistic.py:432: FutureWarning: Default solver will be changed to 'lbfgs' in 0.22. Specify a solver to silence this warning.\n",
      "  FutureWarning)\n"
     ]
    },
    {
     "data": {
      "text/plain": [
       "LogisticRegression(C=1.0, class_weight=None, dual=False, fit_intercept=True,\n",
       "                   intercept_scaling=1, l1_ratio=None, max_iter=100,\n",
       "                   multi_class='warn', n_jobs=None, penalty='l2',\n",
       "                   random_state=None, solver='warn', tol=0.0001, verbose=0,\n",
       "                   warm_start=False)"
      ]
     },
     "execution_count": 15,
     "metadata": {},
     "output_type": "execute_result"
    }
   ],
   "source": [
    "from sklearn.model_selection import train_test_split \n",
    "x_train, x_test, y_train, y_test = train_test_split(x, y, test_size=0.2, random_state=0)\n",
    "from sklearn.linear_model import LogisticRegression\n",
    "model=LogisticRegression()\n",
    "model.fit(x_train,y_train)"
   ]
  },
  {
   "cell_type": "code",
   "execution_count": 16,
   "metadata": {},
   "outputs": [
    {
     "data": {
      "text/plain": [
       "array([0, 0, 0, 0, 0, 0, 0, 0, 0, 1, 0, 0, 0, 0, 0, 0, 0, 0, 1, 0, 0, 1,\n",
       "       0, 1, 0, 1, 0, 0, 0, 0, 0, 0, 1, 0, 0, 0, 0, 0, 0, 1, 0, 0, 0, 0,\n",
       "       1, 0, 0, 1, 0, 1, 1, 0, 0, 0, 1, 1, 0, 0, 1, 0, 0, 1, 0, 0, 0, 1,\n",
       "       0, 0, 0, 0, 0, 0, 0, 1, 0, 0, 0, 0, 1, 1], dtype=int64)"
      ]
     },
     "execution_count": 16,
     "metadata": {},
     "output_type": "execute_result"
    }
   ],
   "source": [
    "y_pred = model.predict(x_test)\n",
    "y_pred"
   ]
  },
  {
   "cell_type": "markdown",
   "metadata": {},
   "source": []
  },
  {
   "cell_type": "code",
   "execution_count": 17,
   "metadata": {},
   "outputs": [
    {
     "data": {
      "text/plain": [
       "0.9375"
      ]
     },
     "execution_count": 17,
     "metadata": {},
     "output_type": "execute_result"
    }
   ],
   "source": [
    "model.score(x_test,y_test)"
   ]
  },
  {
   "cell_type": "code",
   "execution_count": 18,
   "metadata": {},
   "outputs": [
    {
     "data": {
      "text/plain": [
       "array([[0.81442907, 0.18557093],\n",
       "       [0.63810637, 0.36189363],\n",
       "       [0.71281913, 0.28718087],\n",
       "       [0.81442907, 0.18557093],\n",
       "       [0.71281913, 0.28718087],\n",
       "       [0.86068739, 0.13931261],\n",
       "       [0.79658137, 0.20341863],\n",
       "       [0.68893147, 0.31106853],\n",
       "       [0.94515788, 0.05484212],\n",
       "       [0.38728768, 0.61271232],\n",
       "       [0.81442907, 0.18557093],\n",
       "       [0.84644989, 0.15355011],\n",
       "       [0.66399345, 0.33600655],\n",
       "       [0.61139213, 0.38860787],\n",
       "       [0.93206933, 0.06793067],\n",
       "       [0.77748612, 0.22251388],\n",
       "       [0.66399345, 0.33600655],\n",
       "       [0.93894068, 0.06105932],\n",
       "       [0.20251917, 0.79748083],\n",
       "       [0.71281913, 0.28718087],\n",
       "       [0.71281913, 0.28718087],\n",
       "       [0.38728768, 0.61271232],\n",
       "       [0.55606175, 0.44393825],\n",
       "       [0.38728768, 0.61271232],\n",
       "       [0.90695071, 0.09304929],\n",
       "       [0.33476721, 0.66523279],\n",
       "       [0.84644989, 0.15355011],\n",
       "       [0.83104297, 0.16895703],\n",
       "       [0.66399345, 0.33600655],\n",
       "       [0.77748612, 0.22251388],\n",
       "       [0.92448689, 0.07551311],\n",
       "       [0.66399345, 0.33600655],\n",
       "       [0.16817778, 0.83182222],\n",
       "       [0.66399345, 0.33600655],\n",
       "       [0.89687474, 0.10312526],\n",
       "       [0.94515788, 0.05484212],\n",
       "       [0.91613426, 0.08386574],\n",
       "       [0.73557647, 0.26442353],\n",
       "       [0.79658137, 0.20341863],\n",
       "       [0.33476721, 0.66523279],\n",
       "       [0.86068739, 0.13931261],\n",
       "       [0.55606175, 0.44393825],\n",
       "       [0.86068739, 0.13931261],\n",
       "       [0.71281913, 0.28718087],\n",
       "       [0.499305  , 0.500695  ],\n",
       "       [0.86068739, 0.13931261],\n",
       "       [0.66399345, 0.33600655],\n",
       "       [0.2633435 , 0.7366565 ],\n",
       "       [0.87380158, 0.12619842],\n",
       "       [0.33476721, 0.66523279],\n",
       "       [0.16817778, 0.83182222],\n",
       "       [0.73557647, 0.26442353],\n",
       "       [0.71281913, 0.28718087],\n",
       "       [0.73557647, 0.26442353],\n",
       "       [0.13864727, 0.86135273],\n",
       "       [0.44256615, 0.55743385],\n",
       "       [0.83104297, 0.16895703],\n",
       "       [0.87380158, 0.12619842],\n",
       "       [0.33476721, 0.66523279],\n",
       "       [0.90695071, 0.09304929],\n",
       "       [0.77748612, 0.22251388],\n",
       "       [0.12558657, 0.87441343],\n",
       "       [0.93894068, 0.06105932],\n",
       "       [0.68893147, 0.31106853],\n",
       "       [0.93894068, 0.06105932],\n",
       "       [0.12558657, 0.87441343],\n",
       "       [0.89687474, 0.10312526],\n",
       "       [0.86068739, 0.13931261],\n",
       "       [0.58399152, 0.41600848],\n",
       "       [0.52777312, 0.47222688],\n",
       "       [0.77748612, 0.22251388],\n",
       "       [0.71281913, 0.28718087],\n",
       "       [0.91613426, 0.08386574],\n",
       "       [0.44256615, 0.55743385],\n",
       "       [0.86068739, 0.13931261],\n",
       "       [0.94515788, 0.05484212],\n",
       "       [0.52777312, 0.47222688],\n",
       "       [0.58399152, 0.41600848],\n",
       "       [0.24183426, 0.75816574],\n",
       "       [0.38728768, 0.61271232]])"
      ]
     },
     "execution_count": 18,
     "metadata": {},
     "output_type": "execute_result"
    }
   ],
   "source": [
    "model.predict_proba(x_test)"
   ]
  },
  {
   "cell_type": "code",
   "execution_count": null,
   "metadata": {},
   "outputs": [],
   "source": []
  }
 ],
 "metadata": {
  "kernelspec": {
   "display_name": "Python 3",
   "language": "python",
   "name": "python3"
  },
  "language_info": {
   "codemirror_mode": {
    "name": "ipython",
    "version": 3
   },
   "file_extension": ".py",
   "mimetype": "text/x-python",
   "name": "python",
   "nbconvert_exporter": "python",
   "pygments_lexer": "ipython3",
   "version": "3.7.4"
  }
 },
 "nbformat": 4,
 "nbformat_minor": 2
}
